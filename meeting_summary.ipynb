{
 "cells": [
  {
   "cell_type": "code",
   "execution_count": null,
   "metadata": {},
   "outputs": [],
   "source": [
    "import os\n",
    "os.environ['OPENAI_API_KEY'] = \"\""
   ]
  },
  {
   "cell_type": "code",
   "execution_count": null,
   "metadata": {},
   "outputs": [],
   "source": [
    "from llama_index.langchain_helpers.text_splitter import TokenTextSplitter\n",
    "from llama_index import SimpleDirectoryReader, GPTListIndex, LLMPredictor, PromptHelper, ServiceContext\n",
    "from langchain import OpenAI\n",
    "\n",
    "documents = SimpleDirectoryReader('./meeting_notes').load_data()\n",
    "\n",
    "# set maximum input size\n",
    "max_input_size = 4096\n",
    "# set number of output tokens\n",
    "num_outputs = 3000\n",
    "# set maximum chunk overlap\n",
    "max_chunk_overlap = 20\n",
    "# set chunk size limit\n",
    "chunk_size_limit = 600\n",
    "\n",
    "prompt_helper = PromptHelper(max_input_size, num_outputs, max_chunk_overlap, chunk_size_limit)\n",
    "llm_predictor = LLMPredictor(llm=OpenAI(temperature=0.5, model_name=\"text-davinci-003\", max_tokens=num_outputs))\n",
    "service_context = ServiceContext.from_defaults(llm_predictor=llm_predictor, prompt_helper=prompt_helper)\n",
    "\n",
    "index = GPTListIndex.from_documents(documents, service_context=service_context)\n",
    "\n",
    "query_engine = index.as_query_engine(\n",
    "    response_mode=\"tree_summarize\"\n",
    ")\n",
    "\n",
    "summarization_query = \"This text is a transcript from a virtual video meeting. Summarize the meeting, including the main points, decisions made, and action items.\" + \\\n",
    "                      \"Use formatting to enhance the response. Use bulleted lists where applicable. Format the response in markdown.\" + \\\n",
    "                      \"Format the response as follows: \" + \\\n",
    "                      \"Attendees:\" + \\\n",
    "                      \"Meeting Summary:\" + \\\n",
    "                      \"Main subjects:\" + \\\n",
    "                      \"Decisions made:\" + \\\n",
    "                      \"Action items:\"\n",
    "response = query_engine.query(summarization_query)\n",
    "\n",
    "print(response)"
   ]
  }
 ],
 "metadata": {
  "kernelspec": {
   "display_name": "Python 3",
   "language": "python",
   "name": "python3"
  },
  "language_info": {
   "codemirror_mode": {
    "name": "ipython",
    "version": 3
   },
   "file_extension": ".py",
   "mimetype": "text/x-python",
   "name": "python",
   "nbconvert_exporter": "python",
   "pygments_lexer": "ipython3",
   "version": "3.11.2"
  }
 },
 "nbformat": 4,
 "nbformat_minor": 2
}
