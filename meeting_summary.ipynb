{
 "cells": [
  {
   "cell_type": "code",
   "execution_count": null,
   "metadata": {},
   "outputs": [],
   "source": [
    "import os\n",
    "os.environ['OPENAI_API_KEY'] = \"\""
   ]
  },
  {
   "cell_type": "code",
   "execution_count": null,
   "metadata": {},
   "outputs": [],
   "source": [
    "from llama_index.langchain_helpers.text_splitter import TokenTextSplitter\n",
    "from llama_index import SimpleDirectoryReader, Document, GPTListIndex\n",
    "\n",
    "documents = SimpleDirectoryReader('./meeting_notes').load_data()\n",
    "\n",
    "index = GPTListIndex.from_documents(documents)\n",
    "\n",
    "query_engine = index.as_query_engine(\n",
    "    response_mode=\"tree_summarize\"\n",
    ")\n",
    "\n",
    "summarization_query = \"This text is a transcript from a virtual video meeting. Summarize the meeting, including the main points, decisions made, and action items.\"\n",
    "response = query_engine.query(summarization_query)\n",
    "\n",
    "print(response)"
   ]
  }
 ],
 "metadata": {
  "kernelspec": {
   "display_name": "Python 3",
   "language": "python",
   "name": "python3"
  },
  "language_info": {
   "codemirror_mode": {
    "name": "ipython",
    "version": 3
   },
   "file_extension": ".py",
   "mimetype": "text/x-python",
   "name": "python",
   "nbconvert_exporter": "python",
   "pygments_lexer": "ipython3",
   "version": "3.11.2"
  }
 },
 "nbformat": 4,
 "nbformat_minor": 2
}
