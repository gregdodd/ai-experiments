{
 "cells": [
  {
   "cell_type": "code",
   "execution_count": 2,
   "metadata": {},
   "outputs": [
    {
     "ename": "ImportError",
     "evalue": "jq package not found, please install it with `pip install jq`",
     "output_type": "error",
     "traceback": [
      "\u001b[1;31m---------------------------------------------------------------------------\u001b[0m",
      "\u001b[1;31mModuleNotFoundError\u001b[0m                       Traceback (most recent call last)",
      "File \u001b[1;32mc:\\Users\\Greg\\AppData\\Local\\Programs\\Python\\Python311\\Lib\\site-packages\\langchain\\document_loaders\\json_loader.py:43\u001b[0m, in \u001b[0;36mJSONLoader.__init__\u001b[1;34m(self, file_path, jq_schema, content_key, metadata_func, text_content)\u001b[0m\n\u001b[0;32m     42\u001b[0m \u001b[39mtry\u001b[39;00m:\n\u001b[1;32m---> 43\u001b[0m     \u001b[39mimport\u001b[39;00m \u001b[39mjq\u001b[39;00m  \u001b[39m# noqa:F401\u001b[39;00m\n\u001b[0;32m     44\u001b[0m \u001b[39mexcept\u001b[39;00m \u001b[39mImportError\u001b[39;00m:\n",
      "\u001b[1;31mModuleNotFoundError\u001b[0m: No module named 'jq'",
      "\nDuring handling of the above exception, another exception occurred:\n",
      "\u001b[1;31mImportError\u001b[0m                               Traceback (most recent call last)",
      "Cell \u001b[1;32mIn[2], line 7\u001b[0m\n\u001b[0;32m      4\u001b[0m \u001b[39mfrom\u001b[39;00m \u001b[39mpathlib\u001b[39;00m \u001b[39mimport\u001b[39;00m Path\n\u001b[0;32m      5\u001b[0m \u001b[39mfrom\u001b[39;00m \u001b[39mpprint\u001b[39;00m \u001b[39mimport\u001b[39;00m pprint\n\u001b[1;32m----> 7\u001b[0m loader \u001b[39m=\u001b[39m JSONLoader(\n\u001b[0;32m      8\u001b[0m     file_path\u001b[39m=\u001b[39;49m\u001b[39m'\u001b[39;49m\u001b[39m./project_info/proj_11448.json\u001b[39;49m\u001b[39m'\u001b[39;49m,\n\u001b[0;32m      9\u001b[0m     jq_schema\u001b[39m=\u001b[39;49m\u001b[39m'\u001b[39;49m\u001b[39m.messages[].content\u001b[39;49m\u001b[39m'\u001b[39;49m)\n\u001b[0;32m     11\u001b[0m data \u001b[39m=\u001b[39m loader\u001b[39m.\u001b[39mload()\n\u001b[0;32m     12\u001b[0m pprint(data)\n",
      "File \u001b[1;32mc:\\Users\\Greg\\AppData\\Local\\Programs\\Python\\Python311\\Lib\\site-packages\\langchain\\document_loaders\\json_loader.py:45\u001b[0m, in \u001b[0;36mJSONLoader.__init__\u001b[1;34m(self, file_path, jq_schema, content_key, metadata_func, text_content)\u001b[0m\n\u001b[0;32m     43\u001b[0m     \u001b[39mimport\u001b[39;00m \u001b[39mjq\u001b[39;00m  \u001b[39m# noqa:F401\u001b[39;00m\n\u001b[0;32m     44\u001b[0m \u001b[39mexcept\u001b[39;00m \u001b[39mImportError\u001b[39;00m:\n\u001b[1;32m---> 45\u001b[0m     \u001b[39mraise\u001b[39;00m \u001b[39mImportError\u001b[39;00m(\n\u001b[0;32m     46\u001b[0m         \u001b[39m\"\u001b[39m\u001b[39mjq package not found, please install it with `pip install jq`\u001b[39m\u001b[39m\"\u001b[39m\n\u001b[0;32m     47\u001b[0m     )\n\u001b[0;32m     49\u001b[0m \u001b[39mself\u001b[39m\u001b[39m.\u001b[39mfile_path \u001b[39m=\u001b[39m Path(file_path)\u001b[39m.\u001b[39mresolve()\n\u001b[0;32m     50\u001b[0m \u001b[39mself\u001b[39m\u001b[39m.\u001b[39m_jq_schema \u001b[39m=\u001b[39m jq\u001b[39m.\u001b[39mcompile(jq_schema)\n",
      "\u001b[1;31mImportError\u001b[0m: jq package not found, please install it with `pip install jq`"
     ]
    }
   ],
   "source": [
    "import json\n",
    "from langchain.document_loaders import JSONLoader\n",
    "\n",
    "from pathlib import Path\n",
    "from pprint import pprint\n",
    "\n",
    "loader = JSONLoader(\n",
    "    file_path='./project_info/proj_11448.json',\n",
    "    jq_schema='.messages[].content')\n",
    "\n",
    "data = loader.load()\n",
    "pprint(data)\n"
   ]
  }
 ],
 "metadata": {
  "kernelspec": {
   "display_name": "Python 3",
   "language": "python",
   "name": "python3"
  },
  "language_info": {
   "codemirror_mode": {
    "name": "ipython",
    "version": 3
   },
   "file_extension": ".py",
   "mimetype": "text/x-python",
   "name": "python",
   "nbconvert_exporter": "python",
   "pygments_lexer": "ipython3",
   "version": "3.11.3"
  },
  "orig_nbformat": 4
 },
 "nbformat": 4,
 "nbformat_minor": 2
}
